{
 "cells": [
  {
   "attachments": {},
   "cell_type": "markdown",
   "metadata": {},
   "source": [
    "# Evaluating Weakly-supervised Object Localization and Semantic Segmentation"
   ]
  },
  {
   "attachments": {},
   "cell_type": "markdown",
   "metadata": {},
   "source": [
    "## Import Statements"
   ]
  },
  {
   "cell_type": "code",
   "execution_count": 1,
   "metadata": {
    "ExecuteTime": {
     "end_time": "2023-05-17T19:36:39.016062Z",
     "start_time": "2023-05-17T19:36:38.781708Z"
    }
   },
   "outputs": [],
   "source": [
    "import numpy as np\n",
    "\n",
    "from wsol_3d_metrics import BBoxEvaluator, BBoxEvaluator3D, MaskEvaluator"
   ]
  },
  {
   "attachments": {},
   "cell_type": "markdown",
   "metadata": {},
   "source": [
    "# Evaluation"
   ]
  },
  {
   "cell_type": "code",
   "execution_count": 2,
   "metadata": {
    "ExecuteTime": {
     "end_time": "2023-05-17T19:36:39.060460Z",
     "start_time": "2023-05-17T19:36:39.035946Z"
    }
   },
   "outputs": [],
   "source": [
    "iou_threshold_list = (30, 50, 70)"
   ]
  },
  {
   "attachments": {},
   "cell_type": "markdown",
   "metadata": {},
   "source": [
    "## 2D Evaluation\n",
    "\n",
    "Ground truth is a $20 \\times 20$ mask with a $3 \\times 3$ object in the top left corner and a $4 \\times 4$ object in the bottom right corner."
   ]
  },
  {
   "cell_type": "code",
   "execution_count": 3,
   "metadata": {
    "ExecuteTime": {
     "end_time": "2023-05-17T19:36:39.064727Z",
     "start_time": "2023-05-17T19:36:39.062161Z"
    }
   },
   "outputs": [],
   "source": [
    "gt = np.zeros((20, 20), dtype=np.float32)\n",
    "gt[:3, :3] = 1\n",
    "gt[-4:, -4:] = 1"
   ]
  },
  {
   "attachments": {},
   "cell_type": "markdown",
   "metadata": {},
   "source": [
    "### Example 1\n",
    "\n",
    "Prediction is a $20 \\times 20$ map with a $3 \\times 3$ object in the top left corner and a $4 \\times 4$ object in the bottom right corner."
   ]
  },
  {
   "cell_type": "code",
   "execution_count": 4,
   "metadata": {
    "ExecuteTime": {
     "end_time": "2023-05-17T19:36:39.072400Z",
     "start_time": "2023-05-17T19:36:39.067050Z"
    }
   },
   "outputs": [
    {
     "name": "stdout",
     "output_type": "stream",
     "text": [
      "MaxBoxAccV1:  [100.0, 100.0, 100.0]\n",
      "MaxBoxAccV2:  [100.0, 100.0, 100.0]\n",
      "PxAP: 100.00\n"
     ]
    }
   ],
   "source": [
    "pred = np.zeros((20, 20), dtype=np.float32)\n",
    "pred[:3, :3] = 1\n",
    "pred[-4:, -4:] = 1\n",
    "\n",
    "for multi_contour_eval in [False, True]:\n",
    "    maxBoxAcc_evaluator = BBoxEvaluator(\n",
    "        iou_threshold_list=iou_threshold_list,\n",
    "        multi_contour_eval=multi_contour_eval\n",
    "    )\n",
    "\n",
    "    maxBoxAcc_evaluator.accumulate(pred, gt)\n",
    "    print(f\"MaxBoxAcc{'V2' if multi_contour_eval else 'V1'}: \", maxBoxAcc_evaluator.compute())\n",
    "\n",
    "pxAP_evaluator = MaskEvaluator()\n",
    "pxAP_evaluator.accumulate(pred, gt)\n",
    "print(f'PxAP: {pxAP_evaluator.compute():.2f}')"
   ]
  },
  {
   "attachments": {},
   "cell_type": "markdown",
   "metadata": {},
   "source": [
    "### Example 2\n",
    "\n",
    "Prediction is a $20 \\times 20$ map with a $3 \\times 3$ object in the top left corner only."
   ]
  },
  {
   "cell_type": "code",
   "execution_count": 5,
   "metadata": {
    "ExecuteTime": {
     "end_time": "2023-05-17T19:36:39.079788Z",
     "start_time": "2023-05-17T19:36:39.075195Z"
    }
   },
   "outputs": [
    {
     "name": "stdout",
     "output_type": "stream",
     "text": [
      "MaxBoxAccV1:  [0.0, 0.0, 0.0]\n",
      "MaxBoxAccV2:  [100.0, 100.0, 100.0]\n",
      "PxAP: 40.00\n"
     ]
    }
   ],
   "source": [
    "pred = np.zeros((20, 20), dtype=np.float32)\n",
    "pred[:3, :3] = 1\n",
    "\n",
    "for multi_contour_eval in [False, True]:\n",
    "    maxBoxAcc_evaluator = BBoxEvaluator(\n",
    "        iou_threshold_list=iou_threshold_list,\n",
    "        multi_contour_eval=multi_contour_eval\n",
    "    )\n",
    "\n",
    "    maxBoxAcc_evaluator.accumulate(pred, gt)\n",
    "    print(f\"MaxBoxAcc{'V2' if multi_contour_eval else 'V1'}: \", maxBoxAcc_evaluator.compute())\n",
    "\n",
    "pxAP_evaluator = MaskEvaluator()\n",
    "pxAP_evaluator.accumulate(pred, gt)\n",
    "print(f'PxAP: {pxAP_evaluator.compute():.2f}')"
   ]
  },
  {
   "attachments": {},
   "cell_type": "markdown",
   "metadata": {},
   "source": [
    "### Example 3\n",
    "\n",
    "Prediction is a $20 \\times 20$ map with a $4 \\times 4$ object in the bottom right corner only."
   ]
  },
  {
   "cell_type": "code",
   "execution_count": 6,
   "metadata": {
    "ExecuteTime": {
     "end_time": "2023-05-17T19:36:39.105429Z",
     "start_time": "2023-05-17T19:36:39.080042Z"
    }
   },
   "outputs": [
    {
     "name": "stdout",
     "output_type": "stream",
     "text": [
      "MaxBoxAccV1:  [100.0, 100.0, 100.0]\n",
      "MaxBoxAccV2:  [100.0, 100.0, 100.0]\n",
      "PxAP: 66.25\n"
     ]
    }
   ],
   "source": [
    "pred = np.zeros((20, 20), dtype=np.float32)\n",
    "pred[-4:, -4:] = 1\n",
    "\n",
    "for multi_contour_eval in [False, True]:\n",
    "    maxBoxAcc_evaluator = BBoxEvaluator(\n",
    "        iou_threshold_list=iou_threshold_list,\n",
    "        multi_contour_eval=multi_contour_eval\n",
    "    )\n",
    "\n",
    "    maxBoxAcc_evaluator.accumulate(pred, gt)\n",
    "    print(f\"MaxBoxAcc{'V2' if multi_contour_eval else 'V1'}: \", maxBoxAcc_evaluator.compute())\n",
    "\n",
    "pxAP_evaluator = MaskEvaluator()\n",
    "pxAP_evaluator.accumulate(pred, gt)\n",
    "print(f'PxAP: {pxAP_evaluator.compute():.2f}')"
   ]
  },
  {
   "attachments": {},
   "cell_type": "markdown",
   "metadata": {},
   "source": [
    "### Example 4\n",
    "\n",
    "Prediction is a $20 \\times 20$ map with a $3 \\times 3$ object in the top left corner and a $4 \\times 4$ object in the bottom right corner, but the objects are shifted by 1 pixel."
   ]
  },
  {
   "cell_type": "code",
   "execution_count": 7,
   "metadata": {
    "ExecuteTime": {
     "end_time": "2023-05-17T19:36:39.105794Z",
     "start_time": "2023-05-17T19:36:39.089721Z"
    }
   },
   "outputs": [
    {
     "name": "stdout",
     "output_type": "stream",
     "text": [
      "MaxBoxAccV1:  [100.0, 100.0, 0.0]\n",
      "MaxBoxAccV2:  [100.0, 100.0, 0.0]\n",
      "PxAP: 30.04\n"
     ]
    }
   ],
   "source": [
    "pred = np.zeros((20, 20), dtype=np.float32)\n",
    "pred[1:4, 1:4] = 1\n",
    "pred[-5:-1, -5:-1] = 1\n",
    "\n",
    "for multi_contour_eval in [False, True]:\n",
    "    maxBoxAcc_evaluator = BBoxEvaluator(\n",
    "        iou_threshold_list=iou_threshold_list,\n",
    "        multi_contour_eval=multi_contour_eval\n",
    "    )\n",
    "\n",
    "    maxBoxAcc_evaluator.accumulate(pred, gt)\n",
    "    print(f\"MaxBoxAcc{'V2' if multi_contour_eval else 'V1'}: \", maxBoxAcc_evaluator.compute())\n",
    "\n",
    "pxAP_evaluator = MaskEvaluator()\n",
    "pxAP_evaluator.accumulate(pred, gt)\n",
    "print(f'PxAP: {pxAP_evaluator.compute():.2f}')"
   ]
  },
  {
   "attachments": {},
   "cell_type": "markdown",
   "metadata": {},
   "source": [
    "## 3D Evaluation\n",
    "\n",
    "Ground truth is a $20 \\times 20 \\times 20$ mask with a $3 \\times 3 \\times 3$ object in the top left corner and a $4 \\times 4 \\times 2$ object in the bottom right corner."
   ]
  },
  {
   "cell_type": "code",
   "execution_count": 8,
   "metadata": {
    "ExecuteTime": {
     "end_time": "2023-05-17T19:36:39.105895Z",
     "start_time": "2023-05-17T19:36:39.096345Z"
    }
   },
   "outputs": [],
   "source": [
    "gt = np.zeros((20, 20, 20), dtype=np.float32)\n",
    "gt[:3, :3, :3] = 1\n",
    "gt[-4:, -4:, -2:] = 1"
   ]
  },
  {
   "attachments": {},
   "cell_type": "markdown",
   "metadata": {},
   "source": [
    "### Example 1\n",
    "\n",
    "Prediction is a $20 \\times 20 \\times 20$ map with a $3 \\times 3 \\times 3$ object in the top left corner and a $4 \\times 4 \\times 2$ object in the bottom right corner."
   ]
  },
  {
   "cell_type": "code",
   "execution_count": 9,
   "metadata": {
    "ExecuteTime": {
     "end_time": "2023-05-17T19:36:39.156725Z",
     "start_time": "2023-05-17T19:36:39.100917Z"
    }
   },
   "outputs": [
    {
     "name": "stdout",
     "output_type": "stream",
     "text": [
      "Max3DBoxAccV1:  [100.0, 100.0, 100.0]\n",
      "Max3DBoxAccV2:  [100.0, 100.0, 100.0]\n",
      "VxAP: 100.00\n"
     ]
    }
   ],
   "source": [
    "pred = np.zeros((20, 20, 20), dtype=np.float32)\n",
    "pred[:3, :3, :3] = 0.9\n",
    "pred[-4:, -4:, -2:] = 0.9\n",
    "\n",
    "for multi_contour_eval in [False, True]:\n",
    "    Max3DBoxAcc_evaluator = BBoxEvaluator3D(\n",
    "        iou_threshold_list=iou_threshold_list,\n",
    "        multi_contour_eval=multi_contour_eval\n",
    "    )\n",
    "\n",
    "    Max3DBoxAcc_evaluator.accumulate(pred, gt)\n",
    "    print(f\"Max3DBoxAcc{'V2' if multi_contour_eval else 'V1'}: \", Max3DBoxAcc_evaluator.compute())\n",
    "\n",
    "vxAP_evaluator = MaskEvaluator()\n",
    "vxAP_evaluator.accumulate(pred, gt)\n",
    "print(f'VxAP: {vxAP_evaluator.compute():.2f}')"
   ]
  },
  {
   "attachments": {},
   "cell_type": "markdown",
   "metadata": {},
   "source": [
    "### Example 2\n",
    "\n",
    "Prediction is a $20 \\times 20 \\times 20$ map with a $3 \\times 3 \\times 3$ object in the top left corner only."
   ]
  },
  {
   "cell_type": "code",
   "execution_count": 10,
   "metadata": {
    "ExecuteTime": {
     "end_time": "2023-05-17T19:36:39.167956Z",
     "start_time": "2023-05-17T19:36:39.139721Z"
    }
   },
   "outputs": [
    {
     "name": "stdout",
     "output_type": "stream",
     "text": [
      "Max3DBoxAccV1:  [0.0, 0.0, 0.0]\n",
      "Max3DBoxAccV2:  [100.0, 100.0, 100.0]\n",
      "VxAP: 46.16\n"
     ]
    }
   ],
   "source": [
    "pred = np.zeros((20, 20, 20), dtype=np.float32)\n",
    "pred[:3, :3, :3] = 0.9\n",
    "\n",
    "for multi_contour_eval in [False, True]:\n",
    "    Max3DBoxAcc_evaluator = BBoxEvaluator3D(\n",
    "        iou_threshold_list=iou_threshold_list,\n",
    "        multi_contour_eval=multi_contour_eval\n",
    "    )\n",
    "\n",
    "    Max3DBoxAcc_evaluator.accumulate(pred, gt)\n",
    "    print(f\"Max3DBoxAcc{'V2' if multi_contour_eval else 'V1'}: \", Max3DBoxAcc_evaluator.compute())\n",
    "\n",
    "vxAP_evaluator = MaskEvaluator()\n",
    "vxAP_evaluator.accumulate(pred, gt)\n",
    "print(f'VxAP: {vxAP_evaluator.compute():.2f}')"
   ]
  },
  {
   "attachments": {},
   "cell_type": "markdown",
   "metadata": {},
   "source": [
    "### Example 3\n",
    "\n",
    "Prediction is a $20 \\times 20 \\times 20$ map with a $4 \\times 4 \\times 2$ object in the bottom right corner only."
   ]
  },
  {
   "cell_type": "code",
   "execution_count": 11,
   "metadata": {
    "ExecuteTime": {
     "end_time": "2023-05-17T19:36:39.198747Z",
     "start_time": "2023-05-17T19:36:39.169573Z"
    }
   },
   "outputs": [
    {
     "name": "stdout",
     "output_type": "stream",
     "text": [
      "Max3DBoxAccV1:  [100.0, 100.0, 100.0]\n",
      "Max3DBoxAccV2:  [100.0, 100.0, 100.0]\n",
      "VxAP: 54.57\n"
     ]
    }
   ],
   "source": [
    "pred = np.zeros((20, 20, 20), dtype=np.float32)\n",
    "pred[-4:, -4:, -2:] = 0.9\n",
    "\n",
    "for multi_contour_eval in [False, True]:\n",
    "    Max3DBoxAcc_evaluator = BBoxEvaluator3D(\n",
    "        iou_threshold_list=iou_threshold_list,\n",
    "        multi_contour_eval=multi_contour_eval\n",
    "    )\n",
    "\n",
    "    Max3DBoxAcc_evaluator.accumulate(pred, gt)\n",
    "    print(f\"Max3DBoxAcc{'V2' if multi_contour_eval else 'V1'}: \", Max3DBoxAcc_evaluator.compute())\n",
    "\n",
    "vxAP_evaluator = MaskEvaluator()\n",
    "vxAP_evaluator.accumulate(pred, gt)\n",
    "print(f'VxAP: {vxAP_evaluator.compute():.2f}')"
   ]
  },
  {
   "attachments": {},
   "cell_type": "markdown",
   "metadata": {},
   "source": [
    "### Example 4\n",
    "\n",
    "Prediction is a $20 \\times 20 \\times 20$ map with a $3 \\times 3 \\times 3$ object in the top left corner and a $4 \\times 4 \\times 2$ object in the bottom right corner, but the objects are shifted by 1 voxel in one dimension."
   ]
  },
  {
   "cell_type": "code",
   "execution_count": 12,
   "metadata": {
    "ExecuteTime": {
     "end_time": "2023-05-17T19:36:39.235793Z",
     "start_time": "2023-05-17T19:36:39.200803Z"
    }
   },
   "outputs": [
    {
     "name": "stdout",
     "output_type": "stream",
     "text": [
      "Max3DBoxAccV1:  [100.0, 100.0, 0.0]\n",
      "Max3DBoxAccV2:  [100.0, 100.0, 0.0]\n",
      "VxAP: 50.89\n"
     ]
    }
   ],
   "source": [
    "pred = np.zeros((20, 20, 20), dtype=np.float32)\n",
    "pred[1:4, :3, :3] = 0.9\n",
    "pred[-5:-1, -4:, -2:] = 0.9\n",
    "\n",
    "for multi_contour_eval in [False, True]:\n",
    "    Max3DBoxAcc_evaluator = BBoxEvaluator3D(\n",
    "        iou_threshold_list=iou_threshold_list,\n",
    "        multi_contour_eval=multi_contour_eval\n",
    "    )\n",
    "\n",
    "    Max3DBoxAcc_evaluator.accumulate(pred, gt)\n",
    "    print(f\"Max3DBoxAcc{'V2' if multi_contour_eval else 'V1'}: \", Max3DBoxAcc_evaluator.compute())\n",
    "\n",
    "vxAP_evaluator = MaskEvaluator()\n",
    "vxAP_evaluator.accumulate(pred, gt)\n",
    "print(f'VxAP: {vxAP_evaluator.compute():.2f}')"
   ]
  }
 ],
 "metadata": {
  "kernelspec": {
   "display_name": ".venv",
   "language": "python",
   "name": "python3"
  },
  "language_info": {
   "codemirror_mode": {
    "name": "ipython",
    "version": 3
   },
   "file_extension": ".py",
   "mimetype": "text/x-python",
   "name": "python",
   "nbconvert_exporter": "python",
   "pygments_lexer": "ipython3",
   "version": "3.11.3"
  },
  "orig_nbformat": 4
 },
 "nbformat": 4,
 "nbformat_minor": 2
}
